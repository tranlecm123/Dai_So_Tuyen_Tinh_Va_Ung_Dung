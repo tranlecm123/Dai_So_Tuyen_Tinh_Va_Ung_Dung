{
 "cells": [
  {
   "cell_type": "code",
   "execution_count": 6,
   "metadata": {},
   "outputs": [
    {
     "name": "stdout",
     "output_type": "stream",
     "text": [
      "-1\n",
      "1\n",
      "1\n"
     ]
    }
   ],
   "source": [
    "# 1. Định thức và các tính chất\n",
    "\n",
    "import numpy as np\n",
    "\n",
    "n = 4\n",
    "X = np.array(range(1, n + 1))\n",
    "sigma = np.array([4, 3, 2, 1])\n",
    "\n",
    "def sgn_by_def(sigma):\n",
    "    ket_qua = 1.0\n",
    "    for i in range(len(X) - 1):\n",
    "        for j in range(i + 1, len(X)):\n",
    "            ket_qua = ket_qua * ((X[i] - X[j]) / (sigma[i] - sigma[j]))\n",
    "    return int(ket_qua)\n",
    "\n",
    "sigma = np.array([2, 1, 3, 4])\n",
    "print(sgn_by_def(sigma))\n",
    "\n",
    "sigma = np.array([4, 3, 2, 1])\n",
    "print(sgn_by_def(sigma))\n",
    "\n",
    "sigma = np.array([1, 2, 3, 4])\n",
    "print(sgn_by_def(sigma))\n"
   ]
  },
  {
   "cell_type": "code",
   "execution_count": 7,
   "metadata": {},
   "outputs": [
    {
     "name": "stdout",
     "output_type": "stream",
     "text": [
      "Tập hoán vị Sn: [(1, 2, 3), (1, 3, 2), (2, 1, 3), (2, 3, 1), (3, 1, 2), (3, 2, 1)]\n",
      "Công thức định thức cho n=2:  + a11a22 - a12a21\n",
      "Công thức định thức cho n=3:  + a11a22a33 - a11a23a32 - a12a21a33 + a13a21a32 + a12a23a31 - a13a22a31\n",
      "Định thức của ma trận A: -2.0\n",
      "Dấu của phép thế sigma: 1\n",
      "Dấu của phép thế sigma: -1\n",
      "Dấu của phép thế sigma: 1\n"
     ]
    }
   ],
   "source": [
    "# Sinh viên thực hành đoạn mã minh họa tính toán định thức của một ma trận theo định nghĩa. \n",
    "import numpy as np\n",
    "from itertools import permutations\n",
    "import math\n",
    "\n",
    "def sgn_by_def(sigma):\n",
    "    ket_qua = 1.0\n",
    "    for i in range(len(sigma) - 1):\n",
    "        for j in range(i + 1, len(sigma)):\n",
    "            ket_qua = ket_qua * ((i + 1 - (j + 1)) / (sigma[i] - sigma[j]))\n",
    "    return int(ket_qua)\n",
    "\n",
    "\n",
    "n = 3\n",
    "X = []\n",
    "for i in range(1, n + 1):\n",
    "    X.append(i)\n",
    "Sn = list(permutations(X))  # tạo hoán vị của tập\n",
    "print(\"Tập hoán vị Sn:\", Sn)\n",
    "\n",
    "det = 0 \n",
    "\n",
    "\n",
    "def phatsinh_dinhthuc(n):\n",
    "    X = []\n",
    "    for i in range(1, n + 1):\n",
    "        X.append(i)\n",
    "    Sn = list(permutations(X))\n",
    "    dinhthuc = \"\"\n",
    "    for sn in Sn:\n",
    "        sigma = np.array([1])\n",
    "        sigma.resize([n])\n",
    "        product = \"\"\n",
    "        for i in range(1, n + 1):\n",
    "            sigma[sn.index(i)] = i\n",
    "            product = product + \"a\" + str(i) + str(sn.index(i) + 1)\n",
    "        dau = sgn_by_def(sigma)  # Gọi hàm sgn_by_def\n",
    "        if (dau != 1):\n",
    "            product = \" - \" + product\n",
    "        else:\n",
    "            product = \" + \" + product\n",
    "        dinhthuc = dinhthuc + product\n",
    "    return dinhthuc\n",
    "\n",
    "# Thử nghiệm với n=2 và n=3\n",
    "print(\"Công thức định thức cho n=2:\", phatsinh_dinhthuc(2)) \n",
    "print(\"Công thức định thức cho n=3:\", phatsinh_dinhthuc(3))  \n",
    "\n",
    "\n",
    "def tinhtoan_dinhthuc(A):\n",
    "    X = []\n",
    "    n = len(A)\n",
    "    for i in range(1, n + 1):\n",
    "        X.append(i)\n",
    "    Sn = list(permutations(X))\n",
    "    det = 0\n",
    "    for sn in Sn:\n",
    "        sigma = np.array([1])\n",
    "        sigma.resize([n])\n",
    "        product = 1.0\n",
    "        for i in range(n):\n",
    "            sigma[sn.index(i + 1)] = i + 1\n",
    "            product *= A[i][list(sn).index(i + 1)]\n",
    "        dau = sgn_by_def(sigma)  # Gọi hàm sgn_by_def\n",
    "        det += dau * product\n",
    "    return det\n",
    "\n",
    "# Ví dụ sử dụng với ma trận 2x2\n",
    "A = np.array([[1, 2], [3, 4]])\n",
    "print(\"Định thức của ma trận A:\", tinhtoan_dinhthuc(A))  \n",
    "\n",
    "\n",
    "n = 4\n",
    "X = np.array(range(1, n + 1))\n",
    "sigma = np.array([4, 3, 2, 1])\n",
    "print(\"Dấu của phép thế sigma:\", sgn_by_def(sigma))\n",
    "\n",
    "sigma = np.array([2, 1, 3, 4])\n",
    "print(\"Dấu của phép thế sigma:\", sgn_by_def(sigma))\n",
    "\n",
    "sigma = np.array([1, 2, 3, 4])\n",
    "print(\"Dấu của phép thế sigma:\", sgn_by_def(sigma))"
   ]
  },
  {
   "cell_type": "code",
   "execution_count": 14,
   "metadata": {},
   "outputs": [
    {
     "name": "stdout",
     "output_type": "stream",
     "text": [
      "-14.0 -28.0 14.000000000000004\n",
      "Hai nghiệm của phương trình là: 2.0 -1.0000000000000002\n"
     ]
    }
   ],
   "source": [
    "\n",
    "# Hệ hai phương trình tuyến tính bậc 1:\n",
    "import numpy as np\n",
    "from scipy import linalg  # Lưu ý: Sử dụng linalg từ scipy thay vì numpy.linalg để khớp với tài liệu\n",
    "\n",
    "# Ma trận hệ số A\n",
    "A = np.array([[4, -2], [3, -5]])  # Khai báo ma trận A\n",
    "\n",
    "# Ma trận A1 (thay cột đầu bằng vector kết quả)\n",
    "A1 = np.array([[10, -2], [11, -5]])  # Khai báo ma trận A1\n",
    "\n",
    "# Ma trận A2 (thay cột thứ hai bằng vector kết quả)\n",
    "A2 = np.array([[4, 10], [3, 11]])  # Khai báo ma trận A2\n",
    "\n",
    "# Tính định thức\n",
    "detA = linalg.det(A)  # Tính định thức của ma trận A\n",
    "detA1 = linalg.det(A1)  # Tính định thức của ma trận A1\n",
    "detA2 = linalg.det(A2)  # Tính định thức của ma trận A2\n",
    "\n",
    "# In ra các định thức\n",
    "print(detA, detA1, detA2)\n",
    "\n",
    "# Kiểm tra và tính nghiệm\n",
    "if (detA != 0):  # Nếu định thức khác 0\n",
    "    x1 = detA1 / detA  # Tính x1\n",
    "    x2 = detA2 / detA  # Tính x2\n",
    "    print(\"Hai nghiệm của phương trình là:\", x1, x2)  # In ra nghiệm\n",
    "else:\n",
    "    print(\"Hệ phương trình không có nghiệm duy nhất vì định thức = 0\")"
   ]
  },
  {
   "cell_type": "code",
   "execution_count": 13,
   "metadata": {},
   "outputs": [
    {
     "name": "stdout",
     "output_type": "stream",
     "text": [
      "Định thức A3: -20.0\n",
      "Định thức A3_x: -39.99999999999999\n",
      "Định thức A3_y: 0.0\n",
      "Định thức A3_z: 20.0\n",
      "Nghiệm (x, y, z): 1.9999999999999996, -0.0, -1.0\n"
     ]
    }
   ],
   "source": [
    "# Hệ ba phương trình tuyến tính bậc 1:\n",
    "import numpy as np\n",
    "from scipy import linalg\n",
    "\n",
    "# Ma trận hệ số A3\n",
    "A3 = np.array([[-1, -2, -3], [2, -2, 1], [3, 4, 4]])\n",
    "\n",
    "# Vector kết quả b\n",
    "b = np.array([1, 3, 2])\n",
    "\n",
    "# Ma trận A3_x (thay cột đầu bằng vector b)\n",
    "A3_x = np.array([[b[0], A3[0][1], A3[0][2]],\n",
    "                 [b[1], A3[1][1], A3[1][2]],\n",
    "                 [b[2], A3[2][1], A3[2][2]]])\n",
    "\n",
    "# Ma trận A3_y (thay cột thứ hai bằng vector b)\n",
    "A3_y = np.array([[A3[0][0], b[0], A3[0][2]],\n",
    "                 [A3[1][0], b[1], A3[1][2]],\n",
    "                 [A3[2][0], b[2], A3[2][2]]])\n",
    "\n",
    "# Ma trận A3_z (thay cột thứ ba bằng vector b)\n",
    "A3_z = np.array([[A3[0][0], A3[0][1], b[0]],\n",
    "                 [A3[1][0], A3[1][1], b[1]],\n",
    "                 [A3[2][0], A3[2][1], b[2]]])\n",
    "\n",
    "# Tính định thức\n",
    "detA3 = linalg.det(A3)\n",
    "detA3_x = linalg.det(A3_x)\n",
    "detA3_y = linalg.det(A3_y)\n",
    "detA3_z = linalg.det(A3_z)\n",
    "\n",
    "print(f\"Định thức A3: {detA3}\")\n",
    "print(f\"Định thức A3_x: {detA3_x}\")\n",
    "print(f\"Định thức A3_y: {detA3_y}\")\n",
    "print(f\"Định thức A3_z: {detA3_z}\")\n",
    "\n",
    "# Tính nghiệm\n",
    "if detA3 != 0:\n",
    "    x = detA3_x / detA3\n",
    "    y = detA3_y / detA3\n",
    "    z = detA3_z / detA3\n",
    "    print(f\"Nghiệm (x, y, z): {x}, {y}, {z}\")\n",
    "else:\n",
    "    print(\"Hệ phương trình không có nghiệm duy nhất vì định thức = 0\")"
   ]
  },
  {
   "cell_type": "code",
   "execution_count": 15,
   "metadata": {},
   "outputs": [
    {
     "name": "stdout",
     "output_type": "stream",
     "text": [
      "1.50000000000000\n"
     ]
    }
   ],
   "source": [
    "# 4. Bài toán ứng dụng 1: Tính diện tích đa giác, thể tích và các phương trình đường, mặt.\n",
    "from sympy import Matrix\n",
    "\n",
    "# Tính diện tích tam giác của 3 điểm A(1,0), B(4,3), C(2,2)\n",
    "M = Matrix([[1, 0, 1], [4, 3, 1], [2, 2, 1]])\n",
    "S = 0.5 * abs(M.det())  # Diện tích là nửa định thức tuyệt đối của ma trận\n",
    "print(S)"
   ]
  },
  {
   "cell_type": "code",
   "execution_count": 16,
   "metadata": {},
   "outputs": [
    {
     "name": "stdout",
     "output_type": "stream",
     "text": [
      "Ma trận cofactor (vectơ đường thẳng):\n",
      "[[-5. -3.]\n",
      " [ 2.  4.]]\n",
      "Ma trận lân cận (adjoint matrix):\n",
      "[[-5.  2.]\n",
      " [-3.  4.]]\n",
      "Định thức của A: -14.0\n",
      "Ma trận nghịch đảo A^-1:\n",
      "[[ 0.35714286 -0.14285714]\n",
      " [ 0.21428571 -0.28571429]]\n"
     ]
    }
   ],
   "source": [
    "########### BÀI TẬP CHƯƠNG 4 ##########\n",
    "# Câu 1\n",
    "import numpy as np\n",
    "from scipy import linalg\n",
    "\n",
    "# Ma trận A\n",
    "A = np.array([[4, -2], [3, -5]])\n",
    "\n",
    "# a. Tính ma trận cofactor (vectơ đường thẳng)\n",
    "def cofactor_matrix(A):\n",
    "    n = len(A)\n",
    "    cofactors = np.zeros((n, n))\n",
    "    for i in range(n):\n",
    "        for j in range(n):\n",
    "            minor = np.delete(np.delete(A, i, axis=0), j, axis=1)\n",
    "            cofactors[i][j] = (-1) ** (i + j) * np.linalg.det(minor)\n",
    "    return cofactors\n",
    "\n",
    "cofactor = cofactor_matrix(A)\n",
    "print(\"Ma trận cofactor (vectơ đường thẳng):\")\n",
    "print(cofactor)\n",
    "\n",
    "# b. Tính ma trận lân cận (adjoint matrix)\n",
    "adj_A = cofactor.T  # Ma trận lân cận là chuyển vị của ma trận cofactor\n",
    "print(\"Ma trận lân cận (adjoint matrix):\")\n",
    "print(adj_A)\n",
    "\n",
    "# Tính định thức\n",
    "detA = linalg.det(A)\n",
    "print(\"Định thức của A:\", detA)\n",
    "\n",
    "# Tính ma trận nghịch đảo nếu có\n",
    "if detA != 0:\n",
    "    inv_A = (1 / detA) * adj_A\n",
    "    print(\"Ma trận nghịch đảo A^-1:\")\n",
    "    print(inv_A)\n",
    "else:\n",
    "    print(\"Ma trận không khả nghịch vì định thức = 0\")"
   ]
  },
  {
   "cell_type": "code",
   "execution_count": 18,
   "metadata": {},
   "outputs": [
    {
     "name": "stdout",
     "output_type": "stream",
     "text": [
      "      2               2              \n",
      "- 19⋅x  + 131⋅x - 19⋅y  + 125⋅y - 286\n",
      "Phương trình đường tròn là:\n",
      "-19*x**2 + 131*x - 19*y**2 + 125*y - 286\n"
     ]
    }
   ],
   "source": [
    "# Câu 2\n",
    "import sympy as sp\n",
    "\n",
    "# Khai báo biến\n",
    "x, y = sp.symbols('x y')\n",
    "x1, y1 = 1, 2\n",
    "x2, y2 = 4, 6\n",
    "x3, y3 = 5, 1\n",
    "\n",
    "# Tạo ma trận định thức\n",
    "M = sp.Matrix([\n",
    "    [x**2 + y**2, x, y, 1],\n",
    "    [x1**2 + y1**2, x1, y1, 1],\n",
    "    [x2**2 + y2**2, x2, y2, 1],\n",
    "    [x3**2 + y3**2, x3, y3, 1],\n",
    "])\n",
    "\n",
    "# Tính định thức\n",
    "circle_eq = M.det()\n",
    "\n",
    "# Hiển thị phương trình đường tròn\n",
    "sp.pprint(circle_eq)\n",
    "print(\"Phương trình đường tròn là:\")\n",
    "print(sp.simplify(circle_eq))\n"
   ]
  }
 ],
 "metadata": {
  "kernelspec": {
   "display_name": "Python 3",
   "language": "python",
   "name": "python3"
  },
  "language_info": {
   "codemirror_mode": {
    "name": "ipython",
    "version": 3
   },
   "file_extension": ".py",
   "mimetype": "text/x-python",
   "name": "python",
   "nbconvert_exporter": "python",
   "pygments_lexer": "ipython3",
   "version": "3.11.0 (main, Oct 24 2022, 18:26:48) [MSC v.1933 64 bit (AMD64)]"
  },
  "orig_nbformat": 4,
  "vscode": {
   "interpreter": {
    "hash": "c261aea317cc0286b3b3261fbba9abdec21eaa57589985bb7a274bf54d6cc0a7"
   }
  }
 },
 "nbformat": 4,
 "nbformat_minor": 2
}
