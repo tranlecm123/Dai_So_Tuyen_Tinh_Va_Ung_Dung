{
 "cells": [
  {
   "cell_type": "code",
   "execution_count": 1,
   "metadata": {},
   "outputs": [
    {
     "name": "stdout",
     "output_type": "stream",
     "text": [
      "[ 1  5 30]\n"
     ]
    }
   ],
   "source": [
    "#1. Giới thiệu một số ứng dụng của tích vector (dot product)\n",
    "import numpy as np\n",
    "\n",
    "# Tạo ma trận (2 chiều)\n",
    "signals = np.array([[1, 2], [3, 4], [10, 0]])\n",
    "\n",
    "# Tạo vector mẫu\n",
    "sample = np.array([3, -1])\n",
    "\n",
    "# Tính tích vô hướng từng hàng của ma trận với vector\n",
    "result = np.inner(signals, sample)\n",
    "\n",
    "# In kết quả\n",
    "print(result)\n"
   ]
  },
  {
   "cell_type": "code",
   "execution_count": 3,
   "metadata": {},
   "outputs": [
    {
     "name": "stdout",
     "output_type": "stream",
     "text": [
      "10 3\n",
      "6 [[ 0  1 -1]]\n"
     ]
    }
   ],
   "source": [
    "#1.1.Ứng dụng 1 – Nguyên lý tìm nốt nhạc trong chuỗi âm thanh (Audio search)\n",
    "import numpy as np\n",
    "\n",
    "A = np.array([0, 0, -1, 2, 3, -1, 0, 1, -1, -1])\n",
    "search_vector = np.array([0, 1, -1])\n",
    "\n",
    "print(len(A), len(search_vector))\n",
    "\n",
    "B = np.array([1])\n",
    "B = np.resize(B, (len(A) - len(search_vector) + 1, len(search_vector)))\n",
    "B = np.asmatrix(B)\n",
    "\n",
    "for i in range(len(A) - len(search_vector) + 1):\n",
    "    for j in range(len(search_vector)):\n",
    "        B[i, j] = A[i + j]\n",
    "\n",
    "C = np.inner(B, search_vector)\n",
    "\n",
    "for i in range(len(A) - len(search_vector) + 1):\n",
    "    if C[0, i] == np.inner(search_vector, search_vector):\n",
    "        print(i, B[i])\n"
   ]
  },
  {
   "cell_type": "code",
   "execution_count": 4,
   "metadata": {},
   "outputs": [
    {
     "name": "stdout",
     "output_type": "stream",
     "text": [
      "Height: 170\n",
      "Width: 296\n",
      "Mode: P\n",
      "Ảnh đã được lưu tại D:/traidat.PNG\n"
     ]
    },
    {
     "name": "stderr",
     "output_type": "stream",
     "text": [
      "C:\\Users\\US\\AppData\\Local\\Temp\\ipykernel_13004\\1226077190.py:21: DeprecationWarning: ANTIALIAS is deprecated and will be removed in Pillow 10 (2023-07-01). Use LANCZOS or Resampling.LANCZOS instead.\n",
      "  new_img = img.resize((new_width, new_height), Image.ANTIALIAS)\n"
     ]
    }
   ],
   "source": [
    "#1.2.Ứng dụng 2 – Tạo ảnh mẫu và làm mờ ảnh\n",
    "from PIL import Image\n",
    "\n",
    "# Mở ảnh\n",
    "img = Image.open('D:/traidat.PNG')\n",
    "\n",
    "# In ra chiều cao, chiều rộng, mode ảnh\n",
    "print(\"Height:\", img.height)\n",
    "print(\"Width:\", img.width)\n",
    "print(\"Mode:\", img.mode)\n",
    "\n",
    "# Nếu ảnh có mode là 'P', chuyển về RGB\n",
    "if img.mode == 'P':\n",
    "    img = img.convert(\"RGB\")\n",
    "\n",
    "# Tính kích thước mới (giảm 1/2)\n",
    "new_width = int(img.width / 2)\n",
    "new_height = int(img.height / 2)\n",
    "\n",
    "# Resize ảnh\n",
    "new_img = img.resize((new_width, new_height), Image.ANTIALIAS)\n",
    "\n",
    "# Lưu ảnh mới\n",
    "new_img.save('D:/traidat-small.PNG')\n",
    "\n",
    "print(\"Ảnh đã được lưu tại D:/traidat.PNG\")\n"
   ]
  },
  {
   "cell_type": "code",
   "execution_count": 6,
   "metadata": {},
   "outputs": [
    {
     "name": "stdout",
     "output_type": "stream",
     "text": [
      "Ảnh đã được lưu tại 'D:/traidat_lammo.PNG'\n"
     ]
    }
   ],
   "source": [
    "# làm mờ ảnh\n",
    "from PIL import Image, ImageDraw\n",
    "\n",
    "# Mở ảnh đầu vào và chuyển sang chế độ RGB nếu cần\n",
    "input_image = Image.open('D:/traidat.PNG').convert(\"RGB\")  # Chuyển đổi ảnh sang RGB nếu chưa\n",
    "\n",
    "input_pixels = input_image.load()  # Đọc các pixel (điểm ảnh) của ảnh\n",
    "\n",
    "# Box kernel (ma trận để làm mờ)\n",
    "box_kernel = [[1 / 9, 1 / 9, 1 / 9],\n",
    "              [1 / 9, 1 / 9, 1 / 9],\n",
    "              [1 / 9, 1 / 9, 1 / 9]]\n",
    "\n",
    "# Xác định vị trí bắt đầu và kết thúc của khuôn\n",
    "kernel = box_kernel\n",
    "offset = len(kernel) // 2\n",
    "\n",
    "# Tạo một ảnh mới để lưu ảnh đã làm mờ\n",
    "output_image = Image.new(\"RGB\", input_image.size)\n",
    "draw = ImageDraw.Draw(output_image)\n",
    "\n",
    "# Duyệt qua từng pixel của ảnh đầu vào để thay thế giá trị của pixel với giá trị mờ\n",
    "for i in range(offset, input_image.width - offset):\n",
    "    for j in range(offset, input_image.height - offset):\n",
    "        acc = [0, 0, 0]  # Khởi tạo mảng để lưu giá trị RGB của điểm ảnh mới\n",
    "        # Áp dụng kernel lên các pixel xung quanh\n",
    "        for di in range(len(kernel)):\n",
    "            for dj in range(len(kernel[di])):\n",
    "                # Tính toán tọa độ của điểm ảnh xung quanh\n",
    "                pixel = input_pixels[i + di - offset, j + dj - offset]\n",
    "                \n",
    "                # Đảm bảo mỗi pixel là tuple (r, g, b)\n",
    "                r, g, b = pixel\n",
    "\n",
    "                # Cộng các giá trị vào mảng acc\n",
    "                acc[0] += r * kernel[di][dj]\n",
    "                acc[1] += g * kernel[di][dj]\n",
    "                acc[2] += b * kernel[di][dj]\n",
    "        \n",
    "        # Gán giá trị trung bình vào pixel mới\n",
    "        draw.point((i, j), (int(acc[0]), int(acc[1]), int(acc[2])))\n",
    "\n",
    "# Lưu ảnh đã làm mờ\n",
    "output_image.save('D:/traidat_lammo.PNG')\n",
    "\n",
    "print(\"Ảnh đã được lưu tại 'D:/traidat_lammo.PNG'\")\n"
   ]
  },
  {
   "cell_type": "code",
   "execution_count": null,
   "metadata": {},
   "outputs": [],
   "source": [
    "# Bài tập 3\n",
    "import matplotlib.pyplot as plt\n",
    "from skimage import data, color\n",
    "from skimage.transform import rescale, resize, downscale_local_mean\n",
    "\n",
    "# Tải ảnh \"astronaut\" từ skimage và chuyển nó sang ảnh grayscale\n",
    "image = color.rgb2gray(data.astronaut())\n",
    "\n",
    "# Thực hiện các phép biến đổi ảnh\n",
    "image_rescaled = rescale(image, 1.0 / 4.0)  # Scale lại ảnh (giảm kích thước 1/4)\n",
    "image_resized = resize(image, (image.shape[0] // 4, image.shape[1] // 4))  # Resize ảnh (no aliasing)\n",
    "image_downscaled = downscale_local_mean(image, (4, 3))  # Giảm tỷ lệ ảnh (no aliasing)\n",
    "\n",
    "# Vẽ các ảnh\n",
    "fig, axes = plt.subplots(nrows=2, ncols=2, figsize=(8, 6))  # Chỉnh lại số dòng và cột\n",
    "ax = axes.ravel()  # Biến ax thành một mảng 1 chiều\n",
    "\n",
    "# Hiển thị ảnh gốc\n",
    "ax[0].imshow(image, cmap=\"gray\")\n",
    "ax[0].set_title(\"Ảnh gốc\")\n",
    "ax[0].set_xlim(0, 512)\n",
    "ax[0].set_ylim(512, 0)  # Lật trục y để hiển thị ảnh đúng\n",
    "\n",
    "# Hiển thị ảnh đã scale\n",
    "ax[1].imshow(image_rescaled, cmap=\"gray\")\n",
    "ax[1].set_title(\"Ảnh đã scale\")\n",
    "\n",
    "# Hiển thị ảnh đã resize\n",
    "ax[2].imshow(image_resized, cmap=\"gray\")\n",
    "ax[2].set_title(\"Ảnh resize (no aliasing)\")\n",
    "\n",
    "# Hiển thị ảnh đã downscale\n",
    "ax[3].imshow(image_downscaled, cmap=\"gray\")\n",
    "ax[3].set_title(\"Ảnh giảm tỉ lệ (no aliasing)\")\n",
    "\n",
    "# Điều chỉnh layout để các subplots không bị chồng lên nhau\n",
    "plt.tight_layout()\n",
    "plt.show()\n",
    "# thiếu thư viện"
   ]
  },
  {
   "cell_type": "code",
   "execution_count": 10,
   "metadata": {},
   "outputs": [],
   "source": [
    "############# BÀI TẬP CHƯƠNG 07 ###############\n",
    "# Bài 1:\n",
    "import cv2\n",
    "import numpy as np\n",
    "\n",
    "# Đọc ảnh gốc\n",
    "image = cv2.imread('D:/traidat.PNG')  # thay bằng tên file ảnh của bạn\n",
    "\n",
    "# Khởi tạo kernel Gaussian 5x5 theo đề bài\n",
    "gaussian_kernel = np.array([\n",
    "    [1, 4, 6, 4, 1],\n",
    "    [4, 16, 24, 16, 4],\n",
    "    [6, 24, 36, 24, 6],\n",
    "    [4, 16, 24, 16, 4],\n",
    "    [1, 4, 6, 4, 1]\n",
    "], dtype=np.float32)\n",
    "\n",
    "# Chuẩn hóa kernel (chia cho 256)\n",
    "gaussian_kernel /= 256.0\n",
    "\n",
    "# Áp dụng filter2D để làm mờ ảnh với kernel Gaussian\n",
    "blurred_image = cv2.filter2D(image, -1, gaussian_kernel)\n",
    "\n",
    "# Hiển thị ảnh trước và sau\n",
    "cv2.imshow('Original Image', image)\n",
    "cv2.imshow('Gaussian Blurred Image', blurred_image)\n",
    "cv2.waitKey(0)\n",
    "cv2.destroyAllWindows()\n"
   ]
  },
  {
   "cell_type": "code",
   "execution_count": 12,
   "metadata": {},
   "outputs": [],
   "source": [
    "#Bài 2:\n",
    "import cv2\n",
    "import numpy as np\n",
    "\n",
    "# Đọc ảnh gốc và chuyển về ảnh xám\n",
    "image = cv2.imread('D:/traidat.PNG', cv2.IMREAD_GRAYSCALE)\n",
    "\n",
    "# Kiểm tra ảnh đã đọc được chưa\n",
    "if image is None:\n",
    "    print(\" Không thể đọc ảnh. Kiểm tra lại đường dẫn hoặc tên file.\")\n",
    "    exit()\n",
    "\n",
    "# Khởi tạo kernel a (Laplacian-like)\n",
    "kernel_a = np.array([\n",
    "    [0, -1, 0],\n",
    "    [-1, 4, -1],\n",
    "    [0, -1, 0]\n",
    "], dtype=np.float32)\n",
    "\n",
    "# Khởi tạo kernel b (Edge enhancement)\n",
    "kernel_b = np.array([\n",
    "    [-1, -1, -1],\n",
    "    [-1,  8, -1],\n",
    "    [-1, -1, -1]\n",
    "], dtype=np.float32)\n",
    "\n",
    "# Áp dụng các kernel\n",
    "result_a = cv2.filter2D(image, -1, kernel_a)\n",
    "result_b = cv2.filter2D(image, -1, kernel_b)\n",
    "\n",
    "# Hiển thị kết quả\n",
    "cv2.imshow('Original Image', image)\n",
    "cv2.imshow('Edge Detection - Kernel A', result_a)\n",
    "cv2.imshow('Edge Detection - Kernel B', result_b)\n",
    "cv2.waitKey(0)\n",
    "cv2.destroyAllWindows()\n"
   ]
  }
 ],
 "metadata": {
  "kernelspec": {
   "display_name": "Python 3",
   "language": "python",
   "name": "python3"
  },
  "language_info": {
   "codemirror_mode": {
    "name": "ipython",
    "version": 3
   },
   "file_extension": ".py",
   "mimetype": "text/x-python",
   "name": "python",
   "nbconvert_exporter": "python",
   "pygments_lexer": "ipython3",
   "version": "3.11.0"
  },
  "orig_nbformat": 4,
  "vscode": {
   "interpreter": {
    "hash": "c261aea317cc0286b3b3261fbba9abdec21eaa57589985bb7a274bf54d6cc0a7"
   }
  }
 },
 "nbformat": 4,
 "nbformat_minor": 2
}
